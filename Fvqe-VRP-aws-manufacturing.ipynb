{
 "cells": [
  {
   "cell_type": "markdown",
   "id": "24aab686-ed68-4712-b6dc-2341ab5a31f1",
   "metadata": {},
   "source": [
    "# [Filtering VQE](https://arxiv.org/abs/2106.10055) - a Quantum Heuristic for solving VRP"
   ]
  },
  {
   "cell_type": "markdown",
   "id": "66517b2a-d782-455c-9668-efeddcc80eb7",
   "metadata": {},
   "source": [
    "\n"
   ]
  },
  {
   "cell_type": "markdown",
   "id": "6feb54d7-458b-4872-bc98-27a1ef1e13d9",
   "metadata": {},
   "source": [
    "### **Theory**"
   ]
  },
  {
   "cell_type": "markdown",
   "id": "33ed2168-388c-479a-897d-e849714e469e",
   "metadata": {},
   "source": [
    "The aim of this notebook is to implement the Filtering VQE algorithm for solving the VRP. We will not here explain all the algorithm, so just refer to [the original article](https://arxiv.org/abs/2106.10055) to understand it properly. Essentially, a regular VQE would use the expectation value of a hamiltonian $H$ on a quantum parametriced circuit in order to try and minimize that expectation value. What the Filtering VQE will do is use that parametriced circuit in order to approximate the action of some operator $F_\\tau = f(H, \\tau)$ that effectively projects a given wavefunction into lower energy eigenstates, thus, filtering the higher energy eigenstates.\n",
    "\n",
    "\n",
    "\n",
    "\n",
    "Here, we will not cover how the VRP is formulated and solved in detail, since that is already exposed on [the Qiskit tutorial on the VRP](https://qiskit.org/documentation/tutorials/optimization/7_examples_vehicle_routing.html). However, we add an little summary of the used notation\n",
    "\n",
    "\n",
    "---\n",
    "Mathematically speaking, the vehicle routing problem (VRP) is a combinatorial problem, wherein the best routes from a depot to a number of clients and back to the depot are sought, given a number of available vehicles. There are a number of formulations possible, extending a number of formulations of the traveling salesman problem [Applegate et al, 2006]. Here, we present a formulation known as MTZ [Miller, Tucker, Zemlin, 1960]. \n",
    "\n",
    "Let $n$ be the number of clients (indexed as $1,\\dots,n$), and $K$ be the number of available vehicles. Let $x_{ij} = \\{0,1\\}$ be the binary decision variable which, if it is $1$, activates the segment from node $i$ to node $j$. The node index runs from $0$ to $n$, where $0$ is (by convention) the depot. There are twice as many distinct decision variables as edges. For example, in a fully connected graph, there are $n(n+1)$ binary decision variables. \n",
    "\n",
    "If two nodes $i$ and $j$ have a link from $i$ to $j$, we write $i \\sim j$. We also denote with $\\delta(i)^+$ the set of nodes to which $i$ has a link, i.e., $j \\in \\delta(i)^+$ if and only if $i \\sim j$. Similarly, we denote with \n",
    "$\\delta(i)^-$ the set of nodes which are connected to $i$, in the sense that $j \\in \\delta(i)^-$ if and only if $j \\sim i$. \n",
    "---\n",
    "\n",
    "\n",
    "\n",
    "Thus, there will be a variable $x_{ij}$ that will tell if there is a vehicle going from node $i$ to node $j$. Our way to obtain a solution is to consider a vector ${\\bf z}$ containing all that information\n",
    "\n",
    "$$\n",
    "{\\bf z} = [x_{01},x_{02},\\ldots,x_{10}, x_{12},\\ldots,x_{n(n-1)}]^T,\n",
    "$$\n",
    "\n",
    "and, as $x_{ij}$ is a binary variable, that vector can be identified as a bitstring. This is why it makes sense to try and map the problem into a QUBO and then into an Ising Hamiltonian (it's diagonal); our solution can be depicted as one of the eigenstates that will, in fact, be one of the computational basis states.\n",
    "\n",
    "In a very simple exercise, imagine that we are given the solution\n",
    "$$\n",
    "{\\bf z} = [x_{01},x_{10}]^T = [1,1]^T,\n",
    "$$\n",
    "Thus, $x_{01}=1$ means that there is a vehicle going from the depot to node $1$ and $x_{10}=1$ means that there is a vehicle going from node $1$ to the depot. There are no more variables and that means that there is only $K=1$ vehicle visiting a single depot. Quite a trivial example."
   ]
  },
  {
   "cell_type": "code",
   "execution_count": 1,
   "id": "59217a08-3d48-4297-86d0-7f4191b480c6",
   "metadata": {},
   "outputs": [
    {
     "name": "stdout",
     "output_type": "stream",
     "text": [
      "Requirement already satisfied: cplex in /usr/local/lib/python3.8/site-packages (22.1.0.0)\n",
      "\u001b[33mWARNING: Running pip as the 'root' user can result in broken permissions and conflicting behaviour with the system package manager. It is recommended to use a virtual environment instead: https://pip.pypa.io/warnings/venv\u001b[0m\n",
      "\u001b[33mWARNING: You are using pip version 21.2.4; however, version 22.3.1 is available.\n",
      "You should consider upgrading via the '/usr/local/bin/python -m pip install --upgrade pip' command.\u001b[0m\n"
     ]
    }
   ],
   "source": [
    "!pip install cplex"
   ]
  },
  {
   "cell_type": "code",
   "execution_count": 3,
   "id": "20497bdf-476b-49c3-ab87-3b7e6644065a",
   "metadata": {},
   "outputs": [
    {
     "name": "stdout",
     "output_type": "stream",
     "text": [
      "Requirement already satisfied: numpy in /usr/local/lib/python3.8/site-packages (1.23.2)\n",
      "\u001b[33mWARNING: Running pip as the 'root' user can result in broken permissions and conflicting behaviour with the system package manager. It is recommended to use a virtual environment instead: https://pip.pypa.io/warnings/venv\u001b[0m\n",
      "\u001b[33mWARNING: You are using pip version 21.2.4; however, version 22.3.1 is available.\n",
      "You should consider upgrading via the '/usr/local/bin/python -m pip install --upgrade pip' command.\u001b[0m\n"
     ]
    }
   ],
   "source": [
    "!pip install numpy"
   ]
  },
  {
   "cell_type": "code",
   "execution_count": 147,
   "id": "9229e951-4701-455b-bda4-8834459d9a9f",
   "metadata": {},
   "outputs": [
    {
     "name": "stdout",
     "output_type": "stream",
     "text": [
      "Requirement already satisfied: matplotlib in /usr/local/lib/python3.8/site-packages (3.5.3)\n",
      "Requirement already satisfied: cycler>=0.10 in /usr/local/lib/python3.8/site-packages (from matplotlib) (0.11.0)\n",
      "Requirement already satisfied: numpy>=1.17 in /usr/local/lib/python3.8/site-packages (from matplotlib) (1.23.2)\n",
      "Requirement already satisfied: python-dateutil>=2.7 in /usr/local/lib/python3.8/site-packages (from matplotlib) (2.8.2)\n",
      "Requirement already satisfied: pillow>=6.2.0 in /usr/local/lib/python3.8/site-packages (from matplotlib) (9.2.0)\n",
      "Requirement already satisfied: packaging>=20.0 in /usr/local/lib/python3.8/site-packages (from matplotlib) (21.3)\n",
      "Requirement already satisfied: kiwisolver>=1.0.1 in /usr/local/lib/python3.8/site-packages (from matplotlib) (1.4.4)\n",
      "Requirement already satisfied: pyparsing>=2.2.1 in /usr/local/lib/python3.8/site-packages (from matplotlib) (3.0.9)\n",
      "Requirement already satisfied: fonttools>=4.22.0 in /usr/local/lib/python3.8/site-packages (from matplotlib) (4.37.1)\n",
      "Requirement already satisfied: six>=1.5 in /usr/local/lib/python3.8/site-packages (from python-dateutil>=2.7->matplotlib) (1.16.0)\n",
      "\u001b[33mWARNING: Running pip as the 'root' user can result in broken permissions and conflicting behaviour with the system package manager. It is recommended to use a virtual environment instead: https://pip.pypa.io/warnings/venv\u001b[0m\n",
      "\u001b[33mWARNING: You are using pip version 21.2.4; however, version 22.3 is available.\n",
      "You should consider upgrading via the '/usr/local/bin/python -m pip install --upgrade pip' command.\u001b[0m\n"
     ]
    }
   ],
   "source": [
    "!pip install matplotlib "
   ]
  },
  {
   "cell_type": "code",
   "execution_count": 148,
   "id": "e8928125-a34c-4511-8632-da3a338a9094",
   "metadata": {},
   "outputs": [
    {
     "name": "stdout",
     "output_type": "stream",
     "text": [
      "Requirement already satisfied: pandas in /usr/local/lib/python3.8/site-packages (1.4.4)\n",
      "Requirement already satisfied: pytz>=2020.1 in /usr/local/lib/python3.8/site-packages (from pandas) (2022.2.1)\n",
      "Requirement already satisfied: numpy>=1.18.5 in /usr/local/lib/python3.8/site-packages (from pandas) (1.23.2)\n",
      "Requirement already satisfied: python-dateutil>=2.8.1 in /usr/local/lib/python3.8/site-packages (from pandas) (2.8.2)\n",
      "Requirement already satisfied: six>=1.5 in /usr/local/lib/python3.8/site-packages (from python-dateutil>=2.8.1->pandas) (1.16.0)\n",
      "\u001b[33mWARNING: Running pip as the 'root' user can result in broken permissions and conflicting behaviour with the system package manager. It is recommended to use a virtual environment instead: https://pip.pypa.io/warnings/venv\u001b[0m\n",
      "\u001b[33mWARNING: You are using pip version 21.2.4; however, version 22.3 is available.\n",
      "You should consider upgrading via the '/usr/local/bin/python -m pip install --upgrade pip' command.\u001b[0m\n"
     ]
    }
   ],
   "source": [
    "!pip install pandas"
   ]
  },
  {
   "cell_type": "code",
   "execution_count": 149,
   "id": "5a7e304d-9742-4278-8aa8-dd50ac570f02",
   "metadata": {},
   "outputs": [
    {
     "name": "stdout",
     "output_type": "stream",
     "text": [
      "Requirement already satisfied: qiskit in /usr/local/lib/python3.8/site-packages (0.37.2)\n",
      "Requirement already satisfied: qiskit-aer==0.10.4 in /usr/local/lib/python3.8/site-packages (from qiskit) (0.10.4)\n",
      "Requirement already satisfied: qiskit-terra==0.21.2 in /usr/local/lib/python3.8/site-packages (from qiskit) (0.21.2)\n",
      "Requirement already satisfied: qiskit-ibmq-provider==0.19.2 in /usr/local/lib/python3.8/site-packages (from qiskit) (0.19.2)\n",
      "Requirement already satisfied: scipy>=1.0 in /usr/local/lib/python3.8/site-packages (from qiskit-aer==0.10.4->qiskit) (1.9.1)\n",
      "Requirement already satisfied: numpy>=1.16.3 in /usr/local/lib/python3.8/site-packages (from qiskit-aer==0.10.4->qiskit) (1.23.2)\n",
      "Requirement already satisfied: requests>=2.19 in /usr/local/lib/python3.8/site-packages (from qiskit-ibmq-provider==0.19.2->qiskit) (2.27.1)\n",
      "Requirement already satisfied: urllib3>=1.21.1 in /usr/local/lib/python3.8/site-packages (from qiskit-ibmq-provider==0.19.2->qiskit) (1.26.9)\n",
      "Requirement already satisfied: python-dateutil>=2.8.0 in /usr/local/lib/python3.8/site-packages (from qiskit-ibmq-provider==0.19.2->qiskit) (2.8.2)\n",
      "Requirement already satisfied: requests-ntlm>=1.1.0 in /usr/local/lib/python3.8/site-packages (from qiskit-ibmq-provider==0.19.2->qiskit) (1.1.0)\n",
      "Requirement already satisfied: websocket-client>=1.0.1 in /usr/local/lib/python3.8/site-packages (from qiskit-ibmq-provider==0.19.2->qiskit) (1.4.0)\n",
      "Requirement already satisfied: websockets>=10.0 in /usr/local/lib/python3.8/site-packages (from qiskit-ibmq-provider==0.19.2->qiskit) (10.3)\n",
      "Requirement already satisfied: tweedledum<2.0,>=1.1 in /usr/local/lib/python3.8/site-packages (from qiskit-terra==0.21.2->qiskit) (1.1.1)\n",
      "Requirement already satisfied: sympy>=1.3 in /usr/local/lib/python3.8/site-packages (from qiskit-terra==0.21.2->qiskit) (1.11.1)\n",
      "Requirement already satisfied: dill>=0.3 in /usr/local/lib/python3.8/site-packages (from qiskit-terra==0.21.2->qiskit) (0.3.5.1)\n",
      "Requirement already satisfied: retworkx>=0.11.0 in /usr/local/lib/python3.8/site-packages (from qiskit-terra==0.21.2->qiskit) (0.11.0)\n",
      "Requirement already satisfied: psutil>=5 in /usr/local/lib/python3.8/site-packages (from qiskit-terra==0.21.2->qiskit) (5.9.0)\n",
      "Requirement already satisfied: symengine>=0.9 in /usr/local/lib/python3.8/site-packages (from qiskit-terra==0.21.2->qiskit) (0.9.2)\n",
      "Requirement already satisfied: stevedore>=3.0.0 in /usr/local/lib/python3.8/site-packages (from qiskit-terra==0.21.2->qiskit) (4.0.0)\n",
      "Requirement already satisfied: ply>=3.10 in /usr/local/lib/python3.8/site-packages (from qiskit-terra==0.21.2->qiskit) (3.11)\n",
      "Requirement already satisfied: six>=1.5 in /usr/local/lib/python3.8/site-packages (from python-dateutil>=2.8.0->qiskit-ibmq-provider==0.19.2->qiskit) (1.16.0)\n",
      "Requirement already satisfied: idna<4,>=2.5 in /usr/local/lib/python3.8/site-packages (from requests>=2.19->qiskit-ibmq-provider==0.19.2->qiskit) (3.3)\n",
      "Requirement already satisfied: certifi>=2017.4.17 in /usr/local/lib/python3.8/site-packages (from requests>=2.19->qiskit-ibmq-provider==0.19.2->qiskit) (2022.5.18)\n",
      "Requirement already satisfied: charset-normalizer~=2.0.0 in /usr/local/lib/python3.8/site-packages (from requests>=2.19->qiskit-ibmq-provider==0.19.2->qiskit) (2.0.12)\n",
      "Requirement already satisfied: ntlm-auth>=1.0.2 in /usr/local/lib/python3.8/site-packages (from requests-ntlm>=1.1.0->qiskit-ibmq-provider==0.19.2->qiskit) (1.5.0)\n",
      "Requirement already satisfied: cryptography>=1.3 in /usr/local/lib/python3.8/site-packages (from requests-ntlm>=1.1.0->qiskit-ibmq-provider==0.19.2->qiskit) (37.0.4)\n",
      "Requirement already satisfied: cffi>=1.12 in /usr/local/lib/python3.8/site-packages (from cryptography>=1.3->requests-ntlm>=1.1.0->qiskit-ibmq-provider==0.19.2->qiskit) (1.15.1)\n",
      "Requirement already satisfied: pycparser in /usr/local/lib/python3.8/site-packages (from cffi>=1.12->cryptography>=1.3->requests-ntlm>=1.1.0->qiskit-ibmq-provider==0.19.2->qiskit) (2.21)\n",
      "Requirement already satisfied: pbr!=2.1.0,>=2.0.0 in /usr/local/lib/python3.8/site-packages (from stevedore>=3.0.0->qiskit-terra==0.21.2->qiskit) (5.10.0)\n",
      "Requirement already satisfied: mpmath>=0.19 in /usr/local/lib/python3.8/site-packages (from sympy>=1.3->qiskit-terra==0.21.2->qiskit) (1.2.1)\n",
      "\u001b[33mWARNING: Running pip as the 'root' user can result in broken permissions and conflicting behaviour with the system package manager. It is recommended to use a virtual environment instead: https://pip.pypa.io/warnings/venv\u001b[0m\n",
      "\u001b[33mWARNING: You are using pip version 21.2.4; however, version 22.3 is available.\n",
      "You should consider upgrading via the '/usr/local/bin/python -m pip install --upgrade pip' command.\u001b[0m\n"
     ]
    }
   ],
   "source": [
    "!pip install qiskit"
   ]
  },
  {
   "cell_type": "code",
   "execution_count": 150,
   "id": "aca72144-ddbd-4026-b321-751bf3869a55",
   "metadata": {},
   "outputs": [
    {
     "name": "stdout",
     "output_type": "stream",
     "text": [
      "Requirement already satisfied: qiskit_optimization in /usr/local/lib/python3.8/site-packages (0.4.0)\n",
      "Requirement already satisfied: setuptools>=40.1.0 in /usr/local/lib/python3.8/site-packages (from qiskit_optimization) (57.5.0)\n",
      "Requirement already satisfied: numpy>=1.17 in /usr/local/lib/python3.8/site-packages (from qiskit_optimization) (1.23.2)\n",
      "Requirement already satisfied: qiskit-terra>=0.20.0 in /usr/local/lib/python3.8/site-packages (from qiskit_optimization) (0.21.2)\n",
      "Requirement already satisfied: scipy>=1.4 in /usr/local/lib/python3.8/site-packages (from qiskit_optimization) (1.9.1)\n",
      "Requirement already satisfied: docplex>=2.21.207 in /usr/local/lib/python3.8/site-packages (from qiskit_optimization) (2.23.222)\n",
      "Requirement already satisfied: networkx>=2.2 in /usr/local/lib/python3.8/site-packages (from qiskit_optimization) (2.8.6)\n",
      "Requirement already satisfied: six in /usr/local/lib/python3.8/site-packages (from docplex>=2.21.207->qiskit_optimization) (1.16.0)\n",
      "Requirement already satisfied: symengine>=0.9 in /usr/local/lib/python3.8/site-packages (from qiskit-terra>=0.20.0->qiskit_optimization) (0.9.2)\n",
      "Requirement already satisfied: tweedledum<2.0,>=1.1 in /usr/local/lib/python3.8/site-packages (from qiskit-terra>=0.20.0->qiskit_optimization) (1.1.1)\n",
      "Requirement already satisfied: sympy>=1.3 in /usr/local/lib/python3.8/site-packages (from qiskit-terra>=0.20.0->qiskit_optimization) (1.11.1)\n",
      "Requirement already satisfied: stevedore>=3.0.0 in /usr/local/lib/python3.8/site-packages (from qiskit-terra>=0.20.0->qiskit_optimization) (4.0.0)\n",
      "Requirement already satisfied: ply>=3.10 in /usr/local/lib/python3.8/site-packages (from qiskit-terra>=0.20.0->qiskit_optimization) (3.11)\n",
      "Requirement already satisfied: python-dateutil>=2.8.0 in /usr/local/lib/python3.8/site-packages (from qiskit-terra>=0.20.0->qiskit_optimization) (2.8.2)\n",
      "Requirement already satisfied: psutil>=5 in /usr/local/lib/python3.8/site-packages (from qiskit-terra>=0.20.0->qiskit_optimization) (5.9.0)\n",
      "Requirement already satisfied: dill>=0.3 in /usr/local/lib/python3.8/site-packages (from qiskit-terra>=0.20.0->qiskit_optimization) (0.3.5.1)\n",
      "Requirement already satisfied: retworkx>=0.11.0 in /usr/local/lib/python3.8/site-packages (from qiskit-terra>=0.20.0->qiskit_optimization) (0.11.0)\n",
      "Requirement already satisfied: pbr!=2.1.0,>=2.0.0 in /usr/local/lib/python3.8/site-packages (from stevedore>=3.0.0->qiskit-terra>=0.20.0->qiskit_optimization) (5.10.0)\n",
      "Requirement already satisfied: mpmath>=0.19 in /usr/local/lib/python3.8/site-packages (from sympy>=1.3->qiskit-terra>=0.20.0->qiskit_optimization) (1.2.1)\n",
      "\u001b[33mWARNING: Running pip as the 'root' user can result in broken permissions and conflicting behaviour with the system package manager. It is recommended to use a virtual environment instead: https://pip.pypa.io/warnings/venv\u001b[0m\n",
      "\u001b[33mWARNING: You are using pip version 21.2.4; however, version 22.3 is available.\n",
      "You should consider upgrading via the '/usr/local/bin/python -m pip install --upgrade pip' command.\u001b[0m\n"
     ]
    }
   ],
   "source": [
    "!pip install qiskit_optimization\n"
   ]
  },
  {
   "cell_type": "code",
   "execution_count": 2,
   "id": "40debac8-3dfd-46e8-b9e4-830f8536024d",
   "metadata": {},
   "outputs": [],
   "source": [
    "import numpy as np\n",
    "import matplotlib.pyplot as plt\n",
    "import pandas as pd\n",
    "import os.path\n",
    "from time import process_time \n",
    "# Visualization tool\n",
    "from qiskit.visualization import *\n",
    "import matplotlib.pyplot as plt\n",
    "import matplotlib.axes as axes\n",
    "\n",
    "import itertools\n",
    "import pandas as pd\n",
    "import networkx as nx\n",
    "import time\n",
    "import math\n",
    "import cplex\n",
    "from cplex.exceptions import CplexError\n",
    "from docplex.mp.model import Model\n",
    "\n",
    "from qiskit.algorithms.optimizers import ADAM, CG, GSLS, NELDER_MEAD, NFT, POWELL, SPSA, TNC, COBYLA, L_BFGS_B, SLSQP, AQGD, P_BFGS, GradientDescent\n",
    "from qiskit import QuantumCircuit, ClassicalRegister, QuantumRegister, Aer, transpile, execute\n",
    "from qiskit.utils  import QuantumInstance, algorithm_globals\n",
    "from qiskit.circuit import ParameterVector\n",
    "from qiskit.opflow import Z, I, X, Y, ListOp, PauliExpectation, CVaRExpectation, StateFn, CircuitSampler, CircuitStateFn, ListOp\n",
    "\n",
    "from qiskit.algorithms import VQE, QAOA"
   ]
  },
  {
   "cell_type": "code",
   "execution_count": 3,
   "id": "29b1ebc3-41a3-47ff-a8c7-c0fd0785572f",
   "metadata": {},
   "outputs": [],
   "source": [
    "from qiskit import BasicAer\n",
    "from qiskit_optimization import QuadraticProgram\n",
    "from qiskit_optimization.algorithms import MinimumEigenOptimizer"
   ]
  },
  {
   "cell_type": "markdown",
   "id": "610deaa4-3bd9-43e4-9624-f8cfd7500eb4",
   "metadata": {
    "tags": []
   },
   "source": [
    "## We have defined 3 classes:\n",
    "**Class Initializer**\n",
    "GenerateInstance : This method initializes the variables i.e. the number of nodes(including the depot)-n  and number of vehicles-K  \n",
    "**Class ClassicalOptimizer**\n",
    "For a classical solution, we use IBM ILOG CPLEX. CPLEX is able to find the exact solution of this problem. We first define a ClassicalOptimizer class that encodes the problem in a way that CPLEX can solve, and then instantiate the class and solve it.\n",
    "\n",
    "**Class QuantumOptimizer**\n",
    "1-binary_representation : encodes the problem (M) into a QP terms (that’s basically linear algebra); construct_problem : constructs a  optimization problem as an instance of QuadraticProgram\n",
    "\n",
    "2-construct_problem : constructs a QUBO optimization problem as an instance of QuadraticProgram\n"
   ]
  },
  {
   "cell_type": "code",
   "execution_count": 104,
   "id": "4424999c-ee9d-4fa4-a313-707a1692c180",
   "metadata": {},
   "outputs": [
    {
     "name": "stdin",
     "output_type": "stream",
     "text": [
      "Number of locations:  79\n",
      "Number of vehicles:  78\n"
     ]
    }
   ],
   "source": [
    "n=int (input(\"Number of locations: \"))\n",
    "K=int (input(\"Number of vehicles: \"))"
   ]
  },
  {
   "cell_type": "markdown",
   "id": "c793e2e0-aeaf-4cdf-a04c-0360320e8da6",
   "metadata": {},
   "source": [
    " ## Initializing our Vehicle Routing Problem"
   ]
  },
  {
   "cell_type": "code",
   "execution_count": 105,
   "id": "5ebe6443-e7e4-4852-9669-9a394341ee0e",
   "metadata": {},
   "outputs": [],
   "source": [
    "# Get the data\n",
    "class Initializer:\n",
    "    def __init__(self, n):\n",
    "        self.n = n\n",
    "\n",
    "    def generate_instance(self):\n",
    "\n",
    "        n = self.n\n",
    "\n",
    "        np.random.seed(33)\n",
    "        \n",
    "\n",
    "        xc = (np.random.rand(n) - 0.5) * 10\n",
    "        yc = (np.random.rand(n) - 0.5) * 10\n",
    "\n",
    "        instance = np.zeros([n, n])\n",
    "        for ii in range(0, n):\n",
    "            for jj in range(ii + 1, n):\n",
    "                instance[ii, jj] = (xc[ii] - xc[jj]) ** 2 + (yc[ii] - yc[jj]) ** 2\n",
    "                instance[jj, ii] = instance[ii, jj]\n",
    "            return xc, yc, instance"
   ]
  },
  {
   "cell_type": "code",
   "execution_count": 106,
   "id": "36587a79-8b71-476e-b5ab-bc50860541f7",
   "metadata": {},
   "outputs": [],
   "source": [
    "# Initialize the problem by randomly generating the instance\n",
    "initializer = Initializer(n)\n",
    "xc, yc, instance = initializer.generate_instance()"
   ]
  },
  {
   "cell_type": "code",
   "execution_count": 107,
   "id": "398c282e-5b94-4ad1-bb12-426f14528d7d",
   "metadata": {},
   "outputs": [],
   "source": [
    "\n",
    "class ClassicalOptimizer:\n",
    "    def __init__(self, instance, n, K):\n",
    "\n",
    "        self.instance = instance\n",
    "        self.n = n  # number of nodes\n",
    "        self.K = K  # number of vehicles\n",
    "\n",
    "    def compute_allowed_combinations(self):\n",
    "        f = math.factorial\n",
    "        return f(self.n) / f(self.K) / f(self.n - self.K)\n",
    "\n",
    "    def cplex_solution(self):\n",
    "\n",
    "        # refactoring\n",
    "        instance = self.instance\n",
    "        n = self.n\n",
    "        K = self.K\n",
    "\n",
    "        my_obj = list(instance.reshape(1, n**2)[0]) + [0.0 for x in range(0, n - 1)]\n",
    "        my_ub = [1 for x in range(0, n**2 + n - 1)]\n",
    "        my_lb = [0 for x in range(0, n**2)] + [0.1 for x in range(0, n - 1)]\n",
    "        my_ctype = \"\".join([\"I\" for x in range(0, n**2)]) + \"\".join(\n",
    "            [\"C\" for x in range(0, n - 1)]\n",
    "        )\n",
    "\n",
    "        my_rhs = (\n",
    "            2 * ([K] + [1 for x in range(0, n - 1)])\n",
    "            + [1 - 0.1 for x in range(0, (n - 1) ** 2 - (n - 1))]\n",
    "            + [0 for x in range(0, n)]\n",
    "        )\n",
    "        my_sense = (\n",
    "            \"\".join([\"E\" for x in range(0, 2 * n)])\n",
    "            + \"\".join([\"L\" for x in range(0, (n - 1) ** 2 - (n - 1))])\n",
    "            + \"\".join([\"E\" for x in range(0, n)])\n",
    "        )\n",
    "\n",
    "        try:\n",
    "            my_prob = cplex.Cplex()\n",
    "            self.populatebyrow(my_prob, my_obj, my_ub, my_lb, my_ctype, my_sense, my_rhs)\n",
    "\n",
    "            my_prob.solve()\n",
    "\n",
    "        except CplexError as exc:\n",
    "            print(exc)\n",
    "            return\n",
    "\n",
    "        x = my_prob.solution.get_values()\n",
    "        x = np.array(x)\n",
    "        cost = my_prob.solution.get_objective_value()\n",
    "\n",
    "        return x, cost\n",
    "\n",
    "    def populatebyrow(self, prob, my_obj, my_ub, my_lb, my_ctype, my_sense, my_rhs):\n",
    "\n",
    "        n = self.n\n",
    "\n",
    "        prob.objective.set_sense(prob.objective.sense.minimize)\n",
    "        prob.variables.add(obj=my_obj, lb=my_lb, ub=my_ub, types=my_ctype)\n",
    "\n",
    "        prob.set_log_stream(None)\n",
    "        prob.set_error_stream(None)\n",
    "        prob.set_warning_stream(None)\n",
    "        prob.set_results_stream(None)\n",
    "\n",
    "        rows = []\n",
    "        for ii in range(0, n):\n",
    "            col = [x for x in range(0 + n * ii, n + n * ii)]\n",
    "            coef = [1 for x in range(0, n)]\n",
    "            rows.append([col, coef])\n",
    "\n",
    "        for ii in range(0, n):\n",
    "            col = [x for x in range(0 + ii, n**2, n)]\n",
    "            coef = [1 for x in range(0, n)]\n",
    "\n",
    "            rows.append([col, coef])\n",
    "\n",
    "        # Sub-tour elimination constraints:\n",
    "        for ii in range(0, n):\n",
    "            for jj in range(0, n):\n",
    "                if (ii != jj) and (ii * jj > 0):\n",
    "\n",
    "                    col = [ii + (jj * n), n**2 + ii - 1, n**2 + jj - 1]\n",
    "                    coef = [1, 1, -1]\n",
    "\n",
    "                    rows.append([col, coef])\n",
    "\n",
    "        for ii in range(0, n):\n",
    "            col = [(ii) * (n + 1)]\n",
    "            coef = [1]\n",
    "            rows.append([col, coef])\n",
    "\n",
    "        prob.linear_constraints.add(lin_expr=rows, senses=my_sense, rhs=my_rhs)"
   ]
  },
  {
   "cell_type": "code",
   "execution_count": 108,
   "id": "cde94705-25ee-4ed4-b228-73761f37731e",
   "metadata": {},
   "outputs": [
    {
     "name": "stdout",
     "output_type": "stream",
     "text": [
      "Number of feasible solutions = 79.0\n"
     ]
    }
   ],
   "source": [
    "# Instantiate the classical optimizer class\n",
    "classical_optimizer = ClassicalOptimizer(instance, n, K)\n",
    "\n",
    "# Print number of feasible solutions\n",
    "print(\"Number of feasible solutions = \" + str(classical_optimizer.compute_allowed_combinations()))"
   ]
  },
  {
   "cell_type": "code",
   "execution_count": 109,
   "id": "0be94a85-e64e-417a-b8c0-f124e1817327",
   "metadata": {},
   "outputs": [
    {
     "name": "stdout",
     "output_type": "stream",
     "text": [
      "CPLEX Error  1016: Community Edition. Problem size limits exceeded. Purchase at http://ibm.biz/error1016.\n",
      "Elapsed time during the whole program in seconds: 0.025823292000001885\n"
     ]
    }
   ],
   "source": [
    "t_start = process_time()\n",
    "classical_cost = classical_optimizer.cplex_solution()\n",
    "t_stop = process_time()\n",
    "tc = t_stop-t_start\n",
    "print(\"Elapsed time during the whole program in seconds:\", tc)\n",
    "\n"
   ]
  },
  {
   "cell_type": "code",
   "execution_count": 101,
   "id": "e7413aa8-ac1a-46d3-91e3-fcc6b4611922",
   "metadata": {},
   "outputs": [
    {
     "name": "stdout",
     "output_type": "stream",
     "text": [
      "None\n"
     ]
    }
   ],
   "source": [
    "print(classical_cost)"
   ]
  },
  {
   "cell_type": "code",
   "execution_count": 102,
   "id": "d0ac0fcf-bb40-4114-883c-b144cdefba33",
   "metadata": {},
   "outputs": [
    {
     "name": "stdout",
     "output_type": "stream",
     "text": [
      "CPLEX Error  1016: Community Edition. Problem size limits exceeded. Purchase at http://ibm.biz/error1016.\n",
      "CPLEX may be missing.\n"
     ]
    }
   ],
   "source": [
    "x = None\n",
    "z = None\n",
    "try:\n",
    "    x, classical_cost = classical_optimizer.cplex_solution()\n",
    "    # Put the solution in the z variable\n",
    "    z = [x[ii] for ii in range(n**2) if ii // n != ii % n]\n",
    "    # Print the solution\n",
    "    print(z)\n",
    "except:\n",
    "    print(\"CPLEX may be missing.\")"
   ]
  },
  {
   "cell_type": "code",
   "execution_count": 103,
   "id": "f4935b3f-d499-48a3-b63f-abf7fb4375e7",
   "metadata": {},
   "outputs": [],
   "source": [
    "### Making a Dataframe of obtained results ###\n",
    "def solutions_to_df(n, K, classical_cost):\n",
    "    dfdata = np.array([n, K, classical_cost, tc])\n",
    "    df = pd.DataFrame(data=dfdata, index=['n (No. of locations)', 'K (No. of vehicles)', 'Classical Cost', 'Classical Cost Execution Time (in s)']).transpose()\n",
    "    return df"
   ]
  },
  {
   "cell_type": "code",
   "execution_count": 86,
   "id": "04879276-d238-411f-8ed5-b7601db1f55a",
   "metadata": {},
   "outputs": [
    {
     "name": "stderr",
     "output_type": "stream",
     "text": [
      "/tmp/ipykernel_1686/4082103237.py:5: FutureWarning: The frame.append method is deprecated and will be removed from pandas in a future version. Use pandas.concat instead.\n",
      "  result_df_classical_cost = result_df_classical_cost.append(df_classical_cost)\n"
     ]
    },
    {
     "data": {
      "text/html": [
       "<div>\n",
       "<style scoped>\n",
       "    .dataframe tbody tr th:only-of-type {\n",
       "        vertical-align: middle;\n",
       "    }\n",
       "\n",
       "    .dataframe tbody tr th {\n",
       "        vertical-align: top;\n",
       "    }\n",
       "\n",
       "    .dataframe thead th {\n",
       "        text-align: right;\n",
       "    }\n",
       "</style>\n",
       "<table border=\"1\" class=\"dataframe\">\n",
       "  <thead>\n",
       "    <tr style=\"text-align: right;\">\n",
       "      <th></th>\n",
       "      <th>n (No. of locations)</th>\n",
       "      <th>K (No. of vehicles)</th>\n",
       "      <th>Classical Cost</th>\n",
       "      <th>Classical Cost Execution Time (in s)</th>\n",
       "    </tr>\n",
       "  </thead>\n",
       "  <tbody>\n",
       "    <tr>\n",
       "      <th>0</th>\n",
       "      <td>2.0</td>\n",
       "      <td>1.0</td>\n",
       "      <td>12.656202</td>\n",
       "      <td>0.005392</td>\n",
       "    </tr>\n",
       "    <tr>\n",
       "      <th>1</th>\n",
       "      <td>3.0</td>\n",
       "      <td>2.0</td>\n",
       "      <td>88.970629</td>\n",
       "      <td>0.005650</td>\n",
       "    </tr>\n",
       "    <tr>\n",
       "      <th>2</th>\n",
       "      <td>4.0</td>\n",
       "      <td>3.0</td>\n",
       "      <td>253.487492</td>\n",
       "      <td>0.006827</td>\n",
       "    </tr>\n",
       "    <tr>\n",
       "      <th>3</th>\n",
       "      <td>5.0</td>\n",
       "      <td>4.0</td>\n",
       "      <td>281.543155</td>\n",
       "      <td>0.005228</td>\n",
       "    </tr>\n",
       "    <tr>\n",
       "      <th>4</th>\n",
       "      <td>6.0</td>\n",
       "      <td>5.0</td>\n",
       "      <td>603.506195</td>\n",
       "      <td>0.006918</td>\n",
       "    </tr>\n",
       "    <tr>\n",
       "      <th>5</th>\n",
       "      <td>7.0</td>\n",
       "      <td>6.0</td>\n",
       "      <td>448.316367</td>\n",
       "      <td>0.006286</td>\n",
       "    </tr>\n",
       "    <tr>\n",
       "      <th>6</th>\n",
       "      <td>8.0</td>\n",
       "      <td>7.0</td>\n",
       "      <td>407.191347</td>\n",
       "      <td>0.005279</td>\n",
       "    </tr>\n",
       "    <tr>\n",
       "      <th>7</th>\n",
       "      <td>13.0</td>\n",
       "      <td>12.0</td>\n",
       "      <td>584.092994</td>\n",
       "      <td>0.006740</td>\n",
       "    </tr>\n",
       "    <tr>\n",
       "      <th>8</th>\n",
       "      <td>17.0</td>\n",
       "      <td>16.0</td>\n",
       "      <td>823.508826</td>\n",
       "      <td>0.007660</td>\n",
       "    </tr>\n",
       "    <tr>\n",
       "      <th>0</th>\n",
       "      <td>30.0</td>\n",
       "      <td>29.0</td>\n",
       "      <td>3002.127782</td>\n",
       "      <td>0.008579</td>\n",
       "    </tr>\n",
       "  </tbody>\n",
       "</table>\n",
       "</div>"
      ],
      "text/plain": [
       "   n (No. of locations)  K (No. of vehicles)  Classical Cost  \\\n",
       "0                   2.0                  1.0       12.656202   \n",
       "1                   3.0                  2.0       88.970629   \n",
       "2                   4.0                  3.0      253.487492   \n",
       "3                   5.0                  4.0      281.543155   \n",
       "4                   6.0                  5.0      603.506195   \n",
       "5                   7.0                  6.0      448.316367   \n",
       "6                   8.0                  7.0      407.191347   \n",
       "7                  13.0                 12.0      584.092994   \n",
       "8                  17.0                 16.0      823.508826   \n",
       "0                  30.0                 29.0     3002.127782   \n",
       "\n",
       "   Classical Cost Execution Time (in s)  \n",
       "0                              0.005392  \n",
       "1                              0.005650  \n",
       "2                              0.006827  \n",
       "3                              0.005228  \n",
       "4                              0.006918  \n",
       "5                              0.006286  \n",
       "6                              0.005279  \n",
       "7                              0.006740  \n",
       "8                              0.007660  \n",
       "0                              0.008579  "
      ]
     },
     "execution_count": 86,
     "metadata": {},
     "output_type": "execute_result"
    }
   ],
   "source": [
    "filename = 'results_Classical_cost.csv'\n",
    "if os.path.isfile(filename): \n",
    "    result_df_classical_cost = pd.read_csv(filename)\n",
    "    df_classical_cost = solutions_to_df(n, K, classical_cost) \n",
    "    result_df_classical_cost = result_df_classical_cost.append(df_classical_cost)\n",
    "else:\n",
    "    df_classical_cost = solutions_to_df(n, K, classical_cost)\n",
    "    result_df_classical_cost = pd.DataFrame(df_classical_cost)\n",
    "result_df_classical_cost.to_csv(filename)\n",
    "\n",
    "result_df_classical_cost[['n (No. of locations)', 'K (No. of vehicles)', 'Classical Cost','Classical Cost Execution Time (in s)']]\n",
    "# result_df_classical_cost = result_df_classical_cost.drop(labels=0, axis=0)"
   ]
  },
  {
   "cell_type": "code",
   "execution_count": 72,
   "id": "12149899-5167-4929-9803-a0a001f046bb",
   "metadata": {},
   "outputs": [],
   "source": [
    "result_df_classical_cost = result_df_classical_cost.drop(result_df_classical_cost.index[-1], axis=0)\n"
   ]
  },
  {
   "cell_type": "code",
   "execution_count": 73,
   "id": "f6ce8555-457e-495b-981f-70a04777b149",
   "metadata": {},
   "outputs": [
    {
     "data": {
      "image/png": "[encoded data removed]",
      "text/plain": [
       "<Figure size 432x288 with 1 Axes>"
      ]
     },
     "metadata": {
      "needs_background": "light"
     },
     "output_type": "display_data"
    }
   ],
   "source": [
    "index1 = result_df_classical_cost.index\n",
    "classical_cost_np_q_time = result_df_classical_cost['Classical Cost Execution Time (in s)'].to_numpy()\n",
    "plt.plot(index1, classical_cost_np_q_time, marker='o', color='yellow')\n",
    "plt.title('Classical Cost Execution Time (in s) for different instances')\n",
    "plt.xlabel('Index of Dataframe')\n",
    "plt.ylabel('Classical Cost(in s)')\n",
    "plt.show()"
   ]
  },
  {
   "cell_type": "code",
   "execution_count": 111,
   "id": "70ba758b-bf2e-4d16-a772-276ce3d3daa1",
   "metadata": {},
   "outputs": [],
   "source": [
    "import numpy as np\n",
    "from scipy.interpolate import UnivariateSpline\n",
    "    # pydoc scipy.interpolate.UnivariateSpline -- fitpack, unclear\n",
    "from datetime import date\n",
    "from pylab import *  # ipython -pylab\n"
   ]
  },
  {
   "cell_type": "code",
   "execution_count": 115,
   "id": "c510c3b8-859d-4d54-9ba6-198447b91692",
   "metadata": {},
   "outputs": [
    {
     "name": "stdout",
     "output_type": "stream",
     "text": [
      "k=1 [4.33886629e-03 5.72192836e-03 6.30832119e-03 ... 1.18484691e+09\n",
      " 1.18496543e+09 1.18508395e+09]\n"
     ]
    },
    {
     "data": {
      "image/png": "[encoded data removed]",
      "text/plain": [
       "<Figure size 432x288 with 1 Axes>"
      ]
     },
     "metadata": {
      "needs_background": "light"
     },
     "output_type": "display_data"
    }
   ],
   "source": [
    "\n",
    "\n",
    "plt.plot( index1, classical_cost_np_q_time, \"o\" )\n",
    "indexwanted = np.arange(0, 30000)\n",
    "\n",
    "  # line parabola cubicspline\n",
    "for k in range(1, 2, 3):\n",
    "    extrapolator = UnivariateSpline( index1, classical_cost_np_q_time, k=3 )\n",
    "    y1 = extrapolator( indexwanted )\n",
    "    label = \"k=%d\" % k\n",
    "    print (label, y1)\n",
    "    plt.plot( indexwanted, y1, label=label  )\n",
    "    \n",
    "  # pylab\n",
    "\n",
    "legend( loc=\"lower left\" )\n",
    "grid(True)\n",
    "savefig( \"extrapolate-UnivariateSpline.png\", dpi=50 )\n",
    "show()\n"
   ]
  },
  {
   "cell_type": "markdown",
   "id": "36b87ec3-8995-491a-af43-fd5adeb13183",
   "metadata": {},
   "source": [
    "## Quantum solution from the ground "
   ]
  },
  {
   "cell_type": "code",
   "execution_count": null,
   "id": "4690df5f-0e77-416e-ab3f-b11401e970d4",
   "metadata": {},
   "outputs": [],
   "source": [
    "from qiskit_optimization import QuadraticProgram\n",
    "from qiskit_optimization.algorithms import MinimumEigenOptimizer\n",
    "\n",
    "\n",
    "class QuantumOptimizer:\n",
    "    def __init__(self, instance, n, K):\n",
    "\n",
    "        self.instance = instance\n",
    "        self.n = n\n",
    "        self.K = K\n",
    "\n",
    "    def binary_representation(self, x_sol=0):\n",
    "\n",
    "        instance = self.instance\n",
    "        n = self.n\n",
    "        K = self.K\n",
    "\n",
    "        A = np.max(instance) * 100  # A parameter of cost function\n",
    "\n",
    "        # Determine the weights w\n",
    "        instance_vec = instance.reshape(n**2)\n",
    "        w_list = [instance_vec[x] for x in range(n**2) if instance_vec[x] > 0]\n",
    "        w = np.zeros(n * (n - 1))\n",
    "        for ii in range(len(w_list)):\n",
    "            w[ii] = w_list[ii]\n",
    "\n",
    "        # Some variables I will use\n",
    "        Id_n = np.eye(n)\n",
    "        Im_n_1 = np.ones([n - 1, n - 1])\n",
    "        Iv_n_1 = np.ones(n)\n",
    "        Iv_n_1[0] = 0\n",
    "        Iv_n = np.ones(n - 1)\n",
    "        neg_Iv_n_1 = np.ones(n) - Iv_n_1\n",
    "\n",
    "        v = np.zeros([n, n * (n - 1)])\n",
    "        for ii in range(n):\n",
    "            count = ii - 1\n",
    "            for jj in range(n * (n - 1)):\n",
    "\n",
    "                if jj // (n - 1) == ii:\n",
    "                    count = ii\n",
    "\n",
    "                if jj // (n - 1) != ii and jj % (n - 1) == count:\n",
    "                    v[ii][jj] = 1.0\n",
    "\n",
    "        vn = np.sum(v[1:], axis=0)\n",
    "\n",
    "        # Q defines the interactions between variables\n",
    "        Q = A * (np.kron(Id_n, Im_n_1) + np.dot(v.T, v))\n",
    "\n",
    "        # g defines the contribution from the individual variables\n",
    "        g = (\n",
    "            w\n",
    "            - 2 * A * (np.kron(Iv_n_1, Iv_n) + vn.T)\n",
    "            - 2 * A * K * (np.kron(neg_Iv_n_1, Iv_n) + v[0].T)\n",
    "        )\n",
    "\n",
    "        # c is the constant offset\n",
    "        c = 2 * A * (n - 1) + 2 * A * (K**2)\n",
    "\n",
    "        try:\n",
    "            max(x_sol)\n",
    "            # Evaluates the cost distance from a binary representation of a path\n",
    "            fun = (\n",
    "                lambda x: np.dot(np.around(x), np.dot(Q, np.around(x)))\n",
    "                + np.dot(g, np.around(x))\n",
    "                + c\n",
    "            )\n",
    "            cost = fun(x_sol)\n",
    "        except:\n",
    "            cost = 0\n",
    "\n",
    "        return Q, g, c, cost\n",
    "\n",
    "    def construct_problem(self, Q, g, c) -> QuadraticProgram:\n",
    "        qp = QuadraticProgram()\n",
    "        for i in range(n * (n - 1)):\n",
    "            qp.binary_var(str(i))\n",
    "        qp.objective.quadratic = Q\n",
    "        qp.objective.linear = g\n",
    "        qp.objective.constant = c\n",
    "        return qp\n",
    "\n",
    "#     def solve_problem(self, qp):\n",
    "#         algorithm_globals.random_seed = 10598\n",
    "#         quantum_instance = QuantumInstance(\n",
    "#             BasicAer.get_backend(\"qasm_simulator\"),\n",
    "#             seed_simulator=algorithm_globals.random_seed,\n",
    "#             seed_transpiler=algorithm_globals.random_seed,\n",
    "#         )\n",
    "\n",
    "#         vqe = VQE(quantum_instance=quantum_instance)\n",
    "#         optimizer = MinimumEigenOptimizer(min_eigen_solver=vqe)\n",
    "#         result = optimizer.solve(qp)\n",
    "#         # compute H\n",
    "#         H, offset = optimizer._convert(qp, optimizer._converters).to_ising()\n",
    "#         # _, _, _, level = self.binary_representation(x_sol=result.x)\n",
    "#     # Instantiate the quantum optimizer class with parameters: \n",
    "algorithm_globals.massive=True\n",
    "# Instantiate the quantum optimizer class with parameters: \n",
    "quantum_optimizer = QuantumOptimizer(instance, n, K)\n",
    "\n",
    "try:\n",
    "    if z is not None:\n",
    "        Q, g, c, binary_cost = quantum_optimizer.binary_representation(x_sol = z)\n",
    "    else:\n",
    "        Q, g, c, binary_cost = quantum_optimizer.binary_representation()\n",
    "except NameError as e:\n",
    "    pass\n",
    "\n",
    "qp = quantum_optimizer.construct_problem(Q, g, c)\n",
    "\n",
    "quantum_instance = QuantumInstance(BasicAer.get_backend('qasm_simulator'),\n",
    "                                           seed_simulator=algorithm_globals.random_seed,\n",
    "                                           seed_transpiler=algorithm_globals.random_seed)\n",
    "\n",
    "vqe = VQE(quantum_instance=quantum_instance)\n",
    "optimizer = MinimumEigenOptimizer(min_eigen_solver=vqe)\n",
    "H, offset = optimizer._convert(qp, optimizer._converters).to_ising()\n",
    "\n",
    "        "
   ]
  },
  {
   "cell_type": "code",
   "execution_count": 47,
   "id": "5f639ede-0e01-490a-85e3-572e7a01b04f",
   "metadata": {},
   "outputs": [],
   "source": [
    "def Ansatz(par, N, p=1):\n",
    "    qc = QuantumCircuit(N)\n",
    "    # Initial layer\n",
    "    for i in range(N):\n",
    "        qc.ry(par[i], i)\n",
    "        \n",
    "    for layer in range(p):\n",
    "        par_counter = N+2*(N-1)*layer\n",
    "    # Repeteable layer. To do the layer VQE thing, define this unit as a separate function\n",
    "        for i in range(N//2):\n",
    "            j = 2*i\n",
    "            qc.cx(j, j+1)\n",
    "            qc.ry(par[j+par_counter], j)\n",
    "            qc.ry(par[j+1+par_counter], j+1)\n",
    "\n",
    "        for i in range(N//2):\n",
    "            j = 2*i\n",
    "            if j+2<N: \n",
    "                qc.cx(j+1, j+2)\n",
    "                qc.ry(par[N-N%2+j+1+par_counter], j+2)\n",
    "                qc.ry(par[N-N%2+j+par_counter], j+1)\n",
    "    return qc"
   ]
  },
  {
   "cell_type": "markdown",
   "id": "ff468bce-bbd4-48e1-8d85-afe00dceece3",
   "metadata": {},
   "source": [
    "We need to define some filtering operator. We will consider $F_\\tau = \\tau I - \\mathcal{H}$ for a constant $\\tau \\ge E_\\mathrm{max}$ since it's a very simple one that is indeed equivalent to a regular VQE. \n",
    "\n",
    "***\n",
    "\n",
    "Next, we would have to define our objective function, which is\n",
    "\n",
    "\\begin{equation}\n",
    "\\begin{aligned}\n",
    "\\mathcal{C}_{t}(\\boldsymbol{\\theta}) &=\\frac{1}{2} \\||\\psi(\\boldsymbol{\\theta})\\rangle-\\left|F_{t} \\psi_{t-1}\\right\\rangle \\|^{2} \\\\\n",
    "&=1-\\frac{\\operatorname{Re}\\left\\langle\\psi_{t-1}\\left|F_{t}\\right| \\psi(\\boldsymbol{\\theta})\\right\\rangle}{\\sqrt{\\left\\langle F_{t}^{2}\\right\\rangle_{\\psi_{t-1}}}}\n",
    "\\end{aligned}\n",
    "\\end{equation}\n",
    "\n",
    "However, given that the gradient descent update is written as\n",
    "\n",
    "\\begin{equation}\n",
    "\\boldsymbol{\\theta}_{t}=\\boldsymbol{\\theta}_{t-1}-\\left.\\eta \\sum_{j=1}^{m} \\frac{\\partial \\mathcal{C}_{t}(\\boldsymbol{\\theta})}{\\partial \\theta_{j}}\\right|_{\\boldsymbol{\\theta}_{t-1}} \\boldsymbol{e}_{j},\n",
    "\\end{equation}\n",
    "\n",
    "and we have an analytic expression for those derivatives\n",
    "\n",
    "\\begin{equation}\n",
    "\\left.\\frac{\\partial \\mathcal{C}_{t}(\\boldsymbol{\\theta})}{\\partial \\theta_{j}}\\right|_{\\boldsymbol{\\theta}_{t-1}}=-\\frac{\\left\\langle F_{t}\\right\\rangle_{\\psi_{t-1}^{j}}-\\left\\langle F_{t}\\right\\rangle_{\\psi_{t-1}^{j-}}}{4 \\sqrt{\\left\\langle F_{t}^{2}\\right\\rangle_{\\psi_{t-1}}}},\n",
    "\\end{equation}\n",
    "\n",
    "there is no need to evaluate that objective function $C_t(\\theta)$.\n",
    "\n",
    "***\n"
   ]
  },
  {
   "cell_type": "code",
   "execution_count": 36,
   "id": "31eb220b-e406-4606-ab61-4d6c962e3763",
   "metadata": {},
   "outputs": [],
   "source": [
    "def filtering_function6(E, c):\n",
    "    return (c-E)\n",
    "\n",
    "def bitstring_energy(H, bitstring):\n",
    "    \n",
    "    bitstring = bitstring[::-1]    \n",
    "    #print(bitstring)\n",
    "    spins = np.array([(-1)**(b == '1') for b in bitstring])\n",
    "    #print(spins)\n",
    "    value = 0\n",
    "          \n",
    "    for i, coef in enumerate(H.coeffs):\n",
    "        #print(\"i is\",i)\n",
    "        weight = np.real(coef)\n",
    "        indices = np.where(H.primitive.table.Z[i])\n",
    "        #print(\"indices are:\",indices[0])\n",
    "        #print(\"------------\")\n",
    "        value += weight * np.prod(spins[indices])\n",
    "    \n",
    "    return value\n",
    "\n",
    "\n",
    "def expectation(H,theta,n,l,shots,tau,filtering,power):\n",
    "    \n",
    "    circuit=Ansatz(theta,n,l)\n",
    "    circuit.measure_all()\n",
    "        \n",
    "    backend = Aer.get_backend('qasm_simulator')\n",
    "    job = execute(circuit, backend, shots=shots)\n",
    "    result = job.result()\n",
    "    counts = result.get_counts()\n",
    "\n",
    "    F_exp=0\n",
    "    for bit,prob in counts.items():\n",
    "        \n",
    "        if filtering ==True:\n",
    "            if power==True:\n",
    "                F_exp+=(prob*filtering_function6(bitstring_energy(H, bit), tau)**2)\n",
    "            else:\n",
    "                F_exp+=(prob*filtering_function6(bitstring_energy(H, bit), tau))\n",
    "        else:\n",
    "            F_exp+=(prob*energies[i])\n",
    "\n",
    "    return F_exp/shots\n",
    "\n",
    "def gradient(op, n,l, shots,tau):\n",
    "    def gradient_fn(params):\n",
    "        grad_list=[]\n",
    "        num_params = len(params)\n",
    "        \n",
    "        # Here, we apply the parameter shift-rule\n",
    "        param_sets_to_eval = params + np.concatenate(\n",
    "        (\n",
    "            np.eye(num_params) * np.pi / 2,  # copy of the parameters with the positive shift\n",
    "            -np.eye(num_params) * np.pi / 2,\n",
    "        ),  # copy of the parameters with the negative shift\n",
    "        axis=0,)\n",
    "        \n",
    "        denominator=4*np.sqrt(expectation(op,params,n,l,shots,tau,True,True))\n",
    "        for i in range(len(params)):\n",
    "            numerator=expectation(op,param_sets_to_eval[i],n,l,shots,tau,True,False)-expectation(op,param_sets_to_eval[i+len(params)],n,l,shots,tau,True,False)\n",
    "            grad_list.append(numerator/denominator)\n",
    "        return np.array(grad_list)\n",
    "    return gradient_fn\n",
    "\n",
    "def qiskit_expectation(op,n,l,shots):\n",
    "    def q_exp(theta):\n",
    "        psi = CircuitStateFn(Ansatz(theta,n,l))\n",
    "        # define your backend or quantum instance (where you can add settings)\n",
    "        backend = Aer.get_backend('qasm_simulator') \n",
    "        q_instance = QuantumInstance(backend, shots=shots)\n",
    "        # define the state to sample\n",
    "        measurable_expression = StateFn(op, is_measurement=True).compose(psi) \n",
    "        # convert to expectation value\n",
    "        expectation = PauliExpectation().convert(measurable_expression)  \n",
    "        # get state sampler (you can also pass the backend directly)\n",
    "        sampler = CircuitSampler(q_instance).convert(expectation) \n",
    "        ##print('Math:', psi.adjoint().compose(op).compose(psi).eval().real)\n",
    "        # evaluate\n",
    "        return sampler.eval().real\n",
    "    return q_exp"
   ]
  },
  {
   "cell_type": "markdown",
   "id": "3fbeba13-6f4d-4449-92f7-4f6e6be2df69",
   "metadata": {},
   "source": [
    " Callback function for cost values which later can be used for visualization purpose"
   ]
  },
  {
   "cell_type": "code",
   "execution_count": 37,
   "id": "0499ff72-ccac-4ddc-ada5-4e7482f92d6d",
   "metadata": {},
   "outputs": [],
   "source": [
    "num_qubits = 30\n",
    "F = c * (I^H.num_qubits) - H\n",
    "fvqe_cost, fvqe_iter=[],[]\n",
    "def callback(nfevs, x_next, cost, stepsize):\n",
    "    fvqe_cost.append(cost)\n",
    "    fvqe_iter.append(nfevs)"
   ]
  },
  {
   "cell_type": "markdown",
   "id": "d470d4fc-9772-42e1-8d6f-704ab3716090",
   "metadata": {},
   "source": [
    "FVQE algorithm"
   ]
  },
  {
   "cell_type": "code",
   "execution_count": 38,
   "id": "7f06741e-773b-46f8-a036-add8517455d7",
   "metadata": {},
   "outputs": [],
   "source": [
    "shots=1024\n",
    "num_qubits = H.num_qubits\n",
    "num_para=2*(num_qubits-1)# The number of parameters in each Layer (except Layer 0).\n",
    "# a=H.to_matrix()\n",
    "# R= np.real(a)\n",
    "# E=np.linalg.eig(R)\n",
    "layers=1\n",
    "# print(E)\n",
    "\n",
    "\n",
    "\n"
   ]
  },
  {
   "cell_type": "code",
   "execution_count": 39,
   "id": "90f953e5-808b-4583-907d-fec9dfe12fbe",
   "metadata": {},
   "outputs": [
    {
     "name": "stderr",
     "output_type": "stream",
     "text": [
      "/tmp/ipykernel_1686/2340771346.py:15: DeprecationWarning: The SparsePauliOp.table method is deprecated as of Qiskit Terra 0.19.0 and will be removed no sooner than 3 months after the releasedate. Use SparsePauliOp.paulis method instead.\n",
      "  indices = np.where(H.primitive.table.Z[i])\n"
     ]
    },
    {
     "name": "stdout",
     "output_type": "stream",
     "text": [
      "Quantum Cost is :  12.656201837646222\n",
      "8.77724552154541\n"
     ]
    }
   ],
   "source": [
    "import time\n",
    "start_time = time.time()\n",
    "# quantum solution\n",
    "\n",
    "theta= np.asarray([*((np.pi/2)*np.ones(num_qubits)),*(np.zeros(2*(num_qubits-1)*layers))])\n",
    "optimizer = GradientDescent(maxiter=80,learning_rate=1.0, callback=callback)\n",
    "\n",
    "obj = qiskit_expectation(H,num_qubits,layers,shots) # <H>\n",
    "\n",
    "grad_fun = gradient(F, num_qubits,layers, shots,c)\n",
    "\n",
    "result = optimizer.minimize(fun=obj, x0=theta,jac=grad_fun)\n",
    "qc = Ansatz(result.x, num_qubits, layers)\n",
    "qc.measure_all()\n",
    "backend = Aer.get_backend('qasm_simulator')\n",
    "job = execute(qc, backend, shots=shots)\n",
    "res = job.result()\n",
    "counts = res.get_counts()\n",
    "revsol = counts.most_frequent()[::-1]\n",
    "sol = np.array(list(revsol), dtype=int)\n",
    "_,_,_,level = quantum_optimizer.binary_representation(x_sol=sol)\n",
    "print(\"Quantum Cost is : \",level)\n",
    "end_time=time.time() - start_time\n",
    "tq = end_time\n",
    "print(tq)\n"
   ]
  },
  {
   "cell_type": "code",
   "execution_count": null,
   "id": "b9e88817-a0aa-46fd-abae-dbd0b691b91f",
   "metadata": {},
   "outputs": [],
   "source": [
    "print(level)\n",
    "print(\"Quantum Cost execution time(in s) is : \",tq)"
   ]
  },
  {
   "cell_type": "code",
   "execution_count": 40,
   "id": "e50f427d-ab51-477b-9b4b-ec2fe2f7949a",
   "metadata": {},
   "outputs": [],
   "source": [
    "### Making a Dataframe of obtained results ###\n",
    "def solutions_to_df(n, K, level):\n",
    "    dfdata = np.array([n, K, level, tq])\n",
    "    df = pd.DataFrame(data=dfdata, index=['n (No. of locations)', 'K (No. of vehicles)', 'Quantum Cost', 'Quantum Cost Execution Time (in s)']).transpose()\n",
    "    return df"
   ]
  },
  {
   "cell_type": "code",
   "execution_count": 41,
   "id": "1b8a361e-044d-4904-b6ef-ee22d19bdab0",
   "metadata": {},
   "outputs": [
    {
     "name": "stderr",
     "output_type": "stream",
     "text": [
      "/tmp/ipykernel_1686/582485124.py:7: FutureWarning: The frame.append method is deprecated and will be removed from pandas in a future version. Use pandas.concat instead.\n",
      "  result_df_Quantum_cost = result_df_Quantum_cost.append(df_Quantum_cost)\n"
     ]
    },
    {
     "data": {
      "text/html": [
       "<div>\n",
       "<style scoped>\n",
       "    .dataframe tbody tr th:only-of-type {\n",
       "        vertical-align: middle;\n",
       "    }\n",
       "\n",
       "    .dataframe tbody tr th {\n",
       "        vertical-align: top;\n",
       "    }\n",
       "\n",
       "    .dataframe thead th {\n",
       "        text-align: right;\n",
       "    }\n",
       "</style>\n",
       "<table border=\"1\" class=\"dataframe\">\n",
       "  <thead>\n",
       "    <tr style=\"text-align: right;\">\n",
       "      <th></th>\n",
       "      <th>n (No. of locations)</th>\n",
       "      <th>K (No. of vehicles)</th>\n",
       "      <th>Quantum Cost</th>\n",
       "      <th>Quantum Cost Execution Time (in s)</th>\n",
       "    </tr>\n",
       "  </thead>\n",
       "  <tbody>\n",
       "    <tr>\n",
       "      <th>1</th>\n",
       "      <td>3.0</td>\n",
       "      <td>2.0</td>\n",
       "      <td>88.970629</td>\n",
       "      <td>78.932857</td>\n",
       "    </tr>\n",
       "    <tr>\n",
       "      <th>2</th>\n",
       "      <td>4.0</td>\n",
       "      <td>3.0</td>\n",
       "      <td>253.487492</td>\n",
       "      <td>743.703637</td>\n",
       "    </tr>\n",
       "    <tr>\n",
       "      <th>3</th>\n",
       "      <td>5.0</td>\n",
       "      <td>4.0</td>\n",
       "      <td>281.543155</td>\n",
       "      <td>6719.433259</td>\n",
       "    </tr>\n",
       "    <tr>\n",
       "      <th>4</th>\n",
       "      <td>5.0</td>\n",
       "      <td>4.0</td>\n",
       "      <td>281.543155</td>\n",
       "      <td>6719.433259</td>\n",
       "    </tr>\n",
       "    <tr>\n",
       "      <th>5</th>\n",
       "      <td>5.0</td>\n",
       "      <td>4.0</td>\n",
       "      <td>281.543155</td>\n",
       "      <td>6719.433259</td>\n",
       "    </tr>\n",
       "  </tbody>\n",
       "</table>\n",
       "</div>"
      ],
      "text/plain": [
       "   n (No. of locations)  K (No. of vehicles)  Quantum Cost  \\\n",
       "1                   3.0                  2.0     88.970629   \n",
       "2                   4.0                  3.0    253.487492   \n",
       "3                   5.0                  4.0    281.543155   \n",
       "4                   5.0                  4.0    281.543155   \n",
       "5                   5.0                  4.0    281.543155   \n",
       "\n",
       "   Quantum Cost Execution Time (in s)  \n",
       "1                           78.932857  \n",
       "2                          743.703637  \n",
       "3                         6719.433259  \n",
       "4                         6719.433259  \n",
       "5                         6719.433259  "
      ]
     },
     "execution_count": 41,
     "metadata": {},
     "output_type": "execute_result"
    }
   ],
   "source": [
    "### Combining all the results into a single Dataframe and saving it as a file ###\n",
    "filename = 'results_Quantum_cost.csv'\n",
    "if os.path.isfile(filename): \n",
    "\n",
    "    result_df_Quantum_cost = pd.read_csv(filename)\n",
    "    df_Quantum_cost = solutions_to_df(n, K, level) \n",
    "    result_df_Quantum_cost = result_df_Quantum_cost.append(df_Quantum_cost)\n",
    "else:\n",
    "    df_Quantum_cost = solutions_to_df(n, K, level)\n",
    "    result_df_Quantum_cost = pd.DataFrame(df_Quantum_cost)\n",
    "result_df_Quantum_cost.to_csv(filename)\n",
    "result_df_Quantum_cost = result_df_Quantum_cost.drop(result_df_Quantum_cost.index[-1])\n",
    "result_df_Quantum_cost[['n (No. of locations)', 'K (No. of vehicles)', 'Quantum Cost','Quantum Cost Execution Time (in s)']]\n",
    "   "
   ]
  },
  {
   "cell_type": "code",
   "execution_count": 42,
   "id": "cc9c8693-d0b8-43e4-b8cc-a5fd287198cf",
   "metadata": {},
   "outputs": [
    {
     "data": {
      "image/png": "[encoded data removed]",
      "text/plain": [
       "<Figure size 432x288 with 1 Axes>"
      ]
     },
     "metadata": {
      "needs_background": "light"
     },
     "output_type": "display_data"
    }
   ],
   "source": [
    "index2 = result_df_Quantum_cost.index\n",
    "Quantum_cost_np_q_time = result_df_Quantum_cost['Quantum Cost Execution Time (in s)'].to_numpy()\n",
    "plt.plot(index2, Quantum_cost_np_q_time, marker='o', color='red')\n",
    "plt.title('Quantum Cost Execution Time (in s) for different instances')\n",
    "plt.xlabel('Index of Dataframe')\n",
    "plt.ylabel('Quantum Cost execution time ')\n",
    "plt.show()\n"
   ]
  },
  {
   "cell_type": "code",
   "execution_count": null,
   "id": "2b159603-4c0a-49f5-9a4e-ba9e32ce96ef",
   "metadata": {},
   "outputs": [],
   "source": [
    "plt.plot( index2, Quantum_cost_np_q_time, \"o\" )\n",
    "indexwanted = np.arange(0, 30000)\n",
    "\n",
    "  # line parabola cubicspline\n",
    "extrapolator = UnivariateSpline( index2, Quantum_cost_np_q_time, k=2 )\n",
    "y2 = extrapolator( indexwanted )\n",
    "label = \"k=%d\" % k\n",
    "print (label, y2)\n",
    "plt.plot( indexwanted, y2, label=label  )  # pylab   \n",
    "\n",
    "legend( loc=\"lower left\" )\n",
    "grid(True)\n",
    "savefig( \"extrapolate-UnivariateSpline.png\", dpi=50 )\n",
    "show()"
   ]
  },
  {
   "cell_type": "code",
   "execution_count": 76,
   "id": "82186ae9-9435-4801-8d3c-0b15ef620d70",
   "metadata": {},
   "outputs": [
    {
     "data": {
      "image/png": "[encoded data removed]",
      "text/plain": [
       "<Figure size 432x288 with 1 Axes>"
      ]
     },
     "metadata": {
      "needs_background": "light"
     },
     "output_type": "display_data"
    }
   ],
   "source": [
    "X = np.arange( 0, 3000)\n",
    "Quantum_cost_np_q_time = result_df_Quantum_cost['Quantum Cost Execution Time (in s)'].to_numpy()\n",
    "classical_cost_np_q_time = result_df_classical_cost['Classical Cost Execution Time (in s)'].to_numpy()\n",
    "\n",
    "plt.plot(X, y1, color = 'red', label = 'classical_cost_time' )\n",
    "plt.plot(X, y2, color = \"green\", label = 'Quantum_cost_time' )\n",
    "plt.xlabel(\"indexdata\")\n",
    "plt.ylabel(\"execution time(in s)\")\n",
    "plt.title(\"Quantum & classical cost execution time\")\n",
    "  \n",
    "# Adding legend, which helps us recognize the curve according to it's color\n",
    "plt.legend()\n",
    "  \n",
    "# To load the display window\n",
    "plt.show()"
   ]
  },
  {
   "cell_type": "code",
   "execution_count": null,
   "id": "b796e728-7afd-4fac-b2a9-23a67f1ee671",
   "metadata": {},
   "outputs": [],
   "source": []
  }
 ],
 "metadata": {
  "instance_type": "ml.t3.medium",
  "kernelspec": {
   "display_name": "Python 3 (Base Python 2.0)",
   "language": "python",
   "name": "python3__SAGEMAKER_INTERNAL__arn:aws:sagemaker:us-east-1:081325390199:image/sagemaker-base-python-38"
  },
  "language_info": {
   "codemirror_mode": {
    "name": "ipython",
    "version": 3
   },
   "file_extension": ".py",
   "mimetype": "text/x-python",
   "name": "python",
   "nbconvert_exporter": "python",
   "pygments_lexer": "ipython3",
   "version": "3.8.12"
  },
  "widgets": {
   "application/vnd.jupyter.widget-state+json": {
    "state": {},
    "version_major": 2,
    "version_minor": 0
   }
  }
 },
 "nbformat": 4,
 "nbformat_minor": 5
}
